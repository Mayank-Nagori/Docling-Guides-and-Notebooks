{
 "cells": [
  {
   "cell_type": "code",
   "execution_count": null,
   "id": "15802b90",
   "metadata": {},
   "outputs": [],
   "source": [
    "from huggingface_hub import snapshot_download"
   ]
  },
  {
   "cell_type": "code",
   "execution_count": null,
   "id": "e4b4432c",
   "metadata": {},
   "outputs": [],
   "source": [
    "snapshot_download(\n",
    "    repo_id=\"ds4sd/docling-models\",\n",
    "    local_dir = r'local_path',  # Adjust the path as needed   \n",
    "    local_dir_use_symlinks=False,\n",
    ")"
   ]
  },
  {
   "cell_type": "code",
   "execution_count": null,
   "id": "4f82e322",
   "metadata": {},
   "outputs": [],
   "source": [
    "from pathlib import Path    \n",
    "from docling.utils.model_downloader import download_models\n",
    "download_models(output_dir=Path('local_path'))"
   ]
  }
 ],
 "metadata": {
  "kernelspec": {
   "display_name": "personal_projects",
   "language": "python",
   "name": "python3"
  },
  "language_info": {
   "name": "python",
   "version": "3.11.9"
  }
 },
 "nbformat": 4,
 "nbformat_minor": 5
}
