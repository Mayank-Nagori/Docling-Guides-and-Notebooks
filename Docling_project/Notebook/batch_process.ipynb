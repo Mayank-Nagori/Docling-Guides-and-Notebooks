{
 "cells": [
  {
   "cell_type": "markdown",
   "id": "adeafea2",
   "metadata": {},
   "source": [
    "Bonus Tip 2: On how to run multiple process simultaneously over different GPUs"
   ]
  },
  {
   "cell_type": "code",
   "execution_count": 3,
   "id": "dbba3a8e",
   "metadata": {},
   "outputs": [],
   "source": [
    "import os\n",
    "from docling.datamodel.base_models import InputFormat\n",
    "from docling_core.types.doc import ImageRefMode, PictureItem, TableItem\n",
    "from docling.document_converter import DocumentConverter, PdfFormatOption\n",
    "from docling.datamodel.pipeline_options import (\n",
    "    PdfPipelineOptions, AcceleratorOptions, AcceleratorDevice\n",
    ")\n",
    "from docling.backend.docling_parse_v4_backend import DoclingParseV4DocumentBackend\n",
    "from pathlib import Path\n",
    "import multiprocessing\n",
    "try:\n",
    "    multiprocessing.set_start_method(\"spawn\")\n",
    "except RuntimeError:\n",
    "    pass\n",
    "\n",
    "artifacts_path=\"C:/Users/z0047npb/Desktop/docling/models\"\n",
    "\n",
    "num_gpus = 4\n",
    "batch_size_per_gpu = 2 # can be changed based in the GPU \n",
    "\n",
    "num_batches = num_gpus * batch_size_per_gpu\n",
    "pdf_chunks = [[] for _ in range(num_batches)] \n",
    "\n",
    "# Collecting all PDF files from the specified directory\n",
    "pdf_files = []\n",
    "for pdf_file in Path(r\"D:\\personal_projects\\Docling_project\\pdf\").glob(\"*.pdf\"):            \n",
    "    pdf_files.append(pdf_file)  \n",
    "\n",
    "#assigning pdf_files to batches  \n",
    "for i,pdf in enumerate(pdf_files):\n",
    "    pdf_chunks[i % num_batches].append(pdf)"
   ]
  },
  {
   "cell_type": "code",
   "execution_count": 4,
   "id": "9e25bbbc",
   "metadata": {},
   "outputs": [],
   "source": [
    "def process_pdf_chunk(gpu_id, pdf_file, batch_id):\n",
    "\n",
    "    accelerator_options = AcceleratorOptions(\n",
    "        num_threads=8,\n",
    "        device=f\"cuda:{gpu_id}\",\n",
    "        cuda_use_flash_attention2=False,\n",
    "    )\n",
    "    pipeline_options = PdfPipelineOptions(\n",
    "    accelerator_options=accelerator_options,\n",
    "    # artifacts_path=\"C:/Users/z0047npb/Desktop/docling/models\",\n",
    "    # generate_page_images=True,\n",
    "    generate_picture_images=True,\n",
    "    images_scale=3.0,\n",
    "    )\n",
    "    pipeline_options.do_ocr = False\n",
    "    pipeline_options.do_table_structure = True\n",
    "    converter = DocumentConverter(\n",
    "        format_options={\n",
    "            InputFormat.PDF: PdfFormatOption(\n",
    "                pipeline_options=pipeline_options,\n",
    "                backend=DoclingParseV4DocumentBackend,\n",
    "            )\n",
    "        }\n",
    "    )\n",
    "\n",
    "    for i, pdf_file in enumerate(pdf_files):\n",
    "        full_pdf_path = pdf_file\n",
    "        base_name = os.path.splitext(os.path.basename(full_pdf_path))[0]\n",
    "        markdown_output_folder = Path(r\"D:\\personal_projects\\Docling_project\\output\") / base_name       \n",
    "        markdown_output_folder.mkdir(parents=True, exist_ok=True)\n",
    "\n",
    "        result = converter.convert(str(full_pdf_path))\n",
    "        md_filename = os.path.join(markdown_output_folder, f\"{base_name}.md\")\n",
    "        result.document.save_as_markdown(md_filename)"
   ]
  },
  {
   "cell_type": "code",
   "execution_count": null,
   "id": "24cc59b5",
   "metadata": {},
   "outputs": [],
   "source": [
    "processes = []  \n",
    "for batch_id in range(num_batches):\n",
    "    assigned_gpu_id = batch_id % num_gpus\n",
    "    print(f\"Starting process for batch {batch_id} on GPU {assigned_gpu_id}\")    \n",
    "    process = multiprocessing.Process(\n",
    "            target=process_pdf_chunk, \n",
    "            args=(assigned_gpu_id, pdf_chunks[batch_id], batch_id)\n",
    "    )\n",
    "    process.start()\n",
    "    processes.append(process)\n",
    "\n",
    "for process in processes:\n",
    "    process.join()\n",
    "    "
   ]
  }
 ],
 "metadata": {
  "kernelspec": {
   "display_name": "personal_projects",
   "language": "python",
   "name": "python3"
  },
  "language_info": {
   "codemirror_mode": {
    "name": "ipython",
    "version": 3
   },
   "file_extension": ".py",
   "mimetype": "text/x-python",
   "name": "python",
   "nbconvert_exporter": "python",
   "pygments_lexer": "ipython3",
   "version": "3.11.9"
  }
 },
 "nbformat": 4,
 "nbformat_minor": 5
}
