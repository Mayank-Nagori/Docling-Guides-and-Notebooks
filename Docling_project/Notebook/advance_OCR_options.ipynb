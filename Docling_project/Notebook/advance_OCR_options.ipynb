{
 "cells": [
  {
   "cell_type": "code",
   "execution_count": 9,
   "id": "d41a944e",
   "metadata": {},
   "outputs": [],
   "source": [
    "from pathlib import Path\n",
    "import os\n",
    "from docling.datamodel.base_models import InputFormat\n",
    "from docling.datamodel.pipeline_options import (\n",
    "    PdfPipelineOptions,\n",
    "    TesseractCliOcrOptions,EasyOcrOptions,\n",
    "    AcceleratorOptions,AcceleratorDevice\n",
    ")\n",
    "from docling.document_converter import DocumentConverter, PdfFormatOption\n",
    "from docling.backend.docling_parse_v4_backend import DoclingParseV4DocumentBackend"
   ]
  },
  {
   "cell_type": "code",
   "execution_count": 12,
   "id": "4abf6d83",
   "metadata": {},
   "outputs": [],
   "source": [
    "artifacts_path=\"C:/Users/z0047npb/Desktop/docling/models\"\n",
    "accelerator_options = AcceleratorOptions(num_threads=8, device=AcceleratorDevice.CUDA, cuda_use_flash_attention2=False,)\n",
    "pipeline_options = PdfPipelineOptions(\n",
    "    accelerator_options=accelerator_options,\n",
    "    artifacts_path=artifacts_path,\n",
    "    #generate_page_images=False,\n",
    "    generate_picture_images=True,\n",
    "    images_scale= 1.0,\n",
    "    do_ocr=True,  \n",
    "    ocr_options=EasyOcrOptions(force_full_page_ocr=True)\n",
    ")\n",
    "pipeline_options.do_ocr = True # Bonus Tip : 01 improving the speed of the pipeline    \n",
    "pipeline_options.do_table_structure = True\n",
    "pipeline_options.table_structure_options.do_cell_matching = True\n",
    "\n",
    "ocr_options = EasyOcrOptions(force_full_page_ocr=True)"
   ]
  },
  {
   "cell_type": "code",
   "execution_count": 17,
   "id": "1ab28943",
   "metadata": {},
   "outputs": [],
   "source": [
    "pdf_path = r\"D:\\personal_projects\\Docling_project\\pdf\\IMMULITE_2000_Systems_Interface_Specifications.pdf\"\n",
    "markdown_folder = r\"D:\\personal_projects\\Docling_project\\output\"\n",
    "os.makedirs(markdown_folder, exist_ok=True)\n",
    "converter = DocumentConverter(\n",
    "    format_options={\n",
    "        InputFormat.PDF: PdfFormatOption(\n",
    "            pipeline_options=pipeline_options,\n",
    "            backend=DoclingParseV4DocumentBackend,\n",
    "        )\n",
    "    }\n",
    ")"
   ]
  },
  {
   "cell_type": "code",
   "execution_count": null,
   "id": "e8fd327e",
   "metadata": {},
   "outputs": [],
   "source": [
    "doc = converter.convert(pdf_path).document\n",
    "md = doc.export_to_markdown()\n",
    "print(md)"
   ]
  },
  {
   "cell_type": "code",
   "execution_count": 22,
   "id": "5a00366f",
   "metadata": {},
   "outputs": [],
   "source": [
    "md_filename = os.path.join(markdown_folder, f\"{doc.name}\"+ \".md\")  \n",
    "md = doc.save_as_markdown(md_filename)"
   ]
  }
 ],
 "metadata": {
  "kernelspec": {
   "display_name": "personal_projects",
   "language": "python",
   "name": "python3"
  },
  "language_info": {
   "codemirror_mode": {
    "name": "ipython",
    "version": 3
   },
   "file_extension": ".py",
   "mimetype": "text/x-python",
   "name": "python",
   "nbconvert_exporter": "python",
   "pygments_lexer": "ipython3",
   "version": "3.11.9"
  }
 },
 "nbformat": 4,
 "nbformat_minor": 5
}
