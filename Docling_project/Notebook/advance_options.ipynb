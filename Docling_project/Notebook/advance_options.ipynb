{
 "cells": [
  {
   "cell_type": "markdown",
   "id": "3d6867c2",
   "metadata": {},
   "source": [
    "This notebook deals with some advance docling options\n",
    "1) Image extractions - as embedding, storage in specific folder with or without custom names\n",
    "- Image scale can be modified based on need and the clarity of the image \n",
    "2) Table extraction  - converting the pdf (with only tables) into json\n",
    "\n",
    "\n",
    "Bonus tip: \n",
    "1) Improving the speed by not making use of OCR if not needed"
   ]
  },
  {
   "cell_type": "code",
   "execution_count": null,
   "id": "1cf7e469",
   "metadata": {},
   "outputs": [
    {
     "name": "stderr",
     "output_type": "stream",
     "text": [
      "d:\\personal_projects\\.venv\\Lib\\site-packages\\tqdm\\auto.py:21: TqdmWarning: IProgress not found. Please update jupyter and ipywidgets. See https://ipywidgets.readthedocs.io/en/stable/user_install.html\n",
      "  from .autonotebook import tqdm as notebook_tqdm\n"
     ]
    }
   ],
   "source": [
    "# Image extraction as embeddings / save it in a folder\n",
    "import os\n",
    "from docling.datamodel.base_models import InputFormat\n",
    "from docling_core.types.doc import ImageRefMode, PictureItem, TableItem\n",
    "from docling.document_converter import DocumentConverter, PdfFormatOption\n",
    "from docling.datamodel.pipeline_options import (\n",
    "    PdfPipelineOptions, AcceleratorOptions, AcceleratorDevice\n",
    ")\n",
    "from docling.backend.docling_parse_v4_backend import DoclingParseV4DocumentBackend\n",
    "\n",
    "from pathlib import Path\n",
    "artifacts_path=\"C:/Users/z0047npb/Desktop/docling/models\"\n",
    "accelerator_options = AcceleratorOptions(num_threads=8, device=AcceleratorDevice.CUDA, cuda_use_flash_attention2=False,)\n",
    "\n",
    "pipeline_options = PdfPipelineOptions(\n",
    "    accelerator_options=accelerator_options,\n",
    "    artifacts_path=artifacts_path,\n",
    "    #generate_page_images=False,\n",
    "    generate_picture_images=True,\n",
    "    images_scale= 3.0 \n",
    ")\n",
    "pipeline_options.do_ocr = False # Bonus Tip : 01 improving the speed of the pipeline    \n",
    "pipeline_options.do_table_structure = True"
   ]
  },
  {
   "cell_type": "code",
   "execution_count": null,
   "id": "c6816ab1",
   "metadata": {},
   "outputs": [],
   "source": [
    "pdf_path = r\"D:\\personal_projects\\Docling_project\\pdf\\ACTH_-_IMMULITE_2000_Systems_-_Rev_20_DXDCM_090234ed841fe8f9-1752273527910.pdf\"\n",
    "markdown_folder = r\"D:\\personal_projects\\Docling_project\\output\"\n",
    "os.makedirs(markdown_folder, exist_ok=True)\n",
    "\n",
    "converter = DocumentConverter(\n",
    "    format_options={\n",
    "        InputFormat.PDF: PdfFormatOption(\n",
    "            pipeline_options=pipeline_options,\n",
    "            backend=DoclingParseV4DocumentBackend,\n",
    "        )\n",
    "    }\n",
    ")"
   ]
  },
  {
   "cell_type": "code",
   "execution_count": null,
   "id": "fb95c050",
   "metadata": {},
   "outputs": [
    {
     "name": "stdout",
     "output_type": "stream",
     "text": [
      "IMMULITE_2000_Systems_Interface_Specifications\n",
      "D:\\personal_projects\\Docling_project\\pdf\\IMMULITE_2000_Systems_Interface_Specifications.pdf\n"
     ]
    }
   ],
   "source": [
    "doc_filename = os.path.splitext(os.path.basename(pdf_path))[0]\n",
    "print(doc_filename)\n",
    "image_folder = Path(markdown_folder) / \"images\" / doc_filename\n",
    "image_folder.mkdir(parents=True, exist_ok=True)"
   ]
  },
  {
   "cell_type": "code",
   "execution_count": 13,
   "id": "466cac18",
   "metadata": {},
   "outputs": [],
   "source": [
    "result = converter.convert(pdf_path)"
   ]
  },
  {
   "cell_type": "code",
   "execution_count": null,
   "id": "eafd778e",
   "metadata": {},
   "outputs": [],
   "source": [
    "# Save markdown with embedded pictures\n",
    "# md_filename = os.path.join(markdown_folder, f\"{doc_filename}\"+ \"with_image_embed.md\")  \n",
    "# result.document.save_as_markdown(md_filename, image_mode=ImageRefMode.EMBEDDED)\n",
    "\n",
    "# Save markdown with externally referenced pictures\n",
    "md_filename = os.path.join(markdown_folder, f\"{doc_filename}\"+ \"with_image_ref.md\")  \n",
    "result.document.save_as_markdown(md_filename,image_mode=ImageRefMode.REFERENCED,artifacts_dir=image_folder)\n"
   ]
  },
  {
   "cell_type": "markdown",
   "id": "5f910bf6",
   "metadata": {},
   "source": [
    "To save the images with custom names"
   ]
  },
  {
   "cell_type": "code",
   "execution_count": null,
   "id": "ad8437a7",
   "metadata": {},
   "outputs": [],
   "source": [
    "picture_counter = 0\n",
    "md_filename = os.path.join(markdown_folder, f\"{doc_filename}\"+ \"_with_ref_cutom_image.md\") \n",
    "for element, _level in result.document.iterate_items():\n",
    "    if isinstance(element, PictureItem):\n",
    "        picture_counter +=1\n",
    "        element_image_filename  = (image_folder/ f\"{doc_filename}-picture-{picture_counter}.png\")\n",
    "    \n",
    "        with element_image_filename.open(\"wb\") as img_file:\n",
    "            element.get_image(result.document).save(img_file, \"PNG\")\n",
    "            element.image.uri = element_image_filename\n",
    "\n",
    "result.document.save_as_markdown(md_filename,image_mode=ImageRefMode.REFERENCED,artifacts_dir=image_folder)"
   ]
  },
  {
   "cell_type": "markdown",
   "id": "bc524b02",
   "metadata": {},
   "source": [
    "Table Extraction \n",
    "1. If the entire document is of Tables and no text, and we need to extract the content from it and convert it back to the json format"
   ]
  },
  {
   "cell_type": "code",
   "execution_count": null,
   "id": "8cc45b51",
   "metadata": {},
   "outputs": [],
   "source": [
    "# First Notebook to be run so to get the paramaters set up\n",
    "pdf_path = r\"D:\\online_help_pdf_parsing\\pdf_file\\High_Sensitivity_C_Reactive_Protein_2_OUS_-_Atellica_CH_-_Rev_04_DXDCM_090234ed823d6b7d-1743183404975.pdf\"\n",
    "doc_filename = os.path.splitext(os.path.basename(pdf_path))[0]\n",
    "result = converter.convert(pdf_path)\n",
    "output_dir_path = Path(r\"D:\\online_help_pdf_parsing\\output\")"
   ]
  },
  {
   "cell_type": "code",
   "execution_count": null,
   "id": "96133487",
   "metadata": {},
   "outputs": [],
   "source": [
    "import json\n",
    "import pandas as pd \n",
    "all_tables_json = []\n",
    "for table_ix, table in enumerate(result.document.tables):\n",
    "    table_df: pd.DataFrame = table.export_to_dataframe()\n",
    "    \n",
    "    all_tables_json.append(table_df.to_dict(orient=\"records\"))\n",
    "\n",
    "merged_json_filename = output_dir_path / f\"{doc_filename}-all-tables_v1.json\"\n",
    "print(f\"Saving all tables to {merged_json_filename}\")\n",
    "with open(merged_json_filename, \"w\", encoding=\"utf-8\") as f:\n",
    "    json.dump(all_tables_json, f, indent=2, ensure_ascii=False)\n",
    "\n",
    "\n",
    "print(f\"Total tables extracted: {len(result.document.tables)}\") "
   ]
  },
  {
   "cell_type": "markdown",
   "id": "664e30f0",
   "metadata": {},
   "source": [
    "If we need to store the tables exclusively form the pdf's like how we take the images from the documents"
   ]
  },
  {
   "cell_type": "code",
   "execution_count": null,
   "id": "01a99f1f",
   "metadata": {},
   "outputs": [],
   "source": [
    "for element, _level in result.document.iterate_items():\n",
    "    if isinstance(element, TableItem):\n",
    "        table_counter += 1\n",
    "        element_image_filename = (\n",
    "            output_dir_path / f\"{doc_filename}-table-{table_counter}.png\"\n",
    "        )\n",
    "        with element_image_filename.open(\"wb\") as fp:\n",
    "            element.get_image(result.document).save(fp, \"PNG\")"
   ]
  }
 ],
 "metadata": {
  "kernelspec": {
   "display_name": "personal_projects",
   "language": "python",
   "name": "python3"
  },
  "language_info": {
   "codemirror_mode": {
    "name": "ipython",
    "version": 3
   },
   "file_extension": ".py",
   "mimetype": "text/x-python",
   "name": "python",
   "nbconvert_exporter": "python",
   "pygments_lexer": "ipython3",
   "version": "3.11.9"
  }
 },
 "nbformat": 4,
 "nbformat_minor": 5
}
