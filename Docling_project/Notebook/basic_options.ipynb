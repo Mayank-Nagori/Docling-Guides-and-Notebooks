{
 "cells": [
  {
   "cell_type": "markdown",
   "id": "e49e202b",
   "metadata": {},
   "source": [
    "This notebook deals with the following\n",
    "1) simple conversion to markdown\n",
    "2) Multiple PDF conversion \n",
    "3) Making use of locally downloaded model from hugginface\n",
    "4) Accelerator option to change GPU or CPU"
   ]
  },
  {
   "cell_type": "markdown",
   "id": "4e469024",
   "metadata": {},
   "source": [
    "Simple conversion"
   ]
  },
  {
   "cell_type": "code",
   "execution_count": null,
   "id": "f743939f",
   "metadata": {},
   "outputs": [],
   "source": [
    "from docling.document_converter import DocumentConverter\n",
    "source = \" \" # document path from local\n",
    "converter = DocumentConverter()\n",
    "doc = converter.convert(source).document  # source can be anything \n",
    "print(doc.export_to_markdown())"
   ]
  },
  {
   "cell_type": "markdown",
   "id": "0863a7a9",
   "metadata": {},
   "source": [
    "Multiple documents(PDF)"
   ]
  },
  {
   "cell_type": "code",
   "execution_count": null,
   "id": "cb27289a",
   "metadata": {},
   "outputs": [],
   "source": [
    "from pathlib import Path\n",
    "from docling.document_converter import InputFormat  \n",
    "from docling.document_converter import DocumentConverter, PdfFormatOption\n",
    "\n",
    "#iterate over the pdf files in the folder\n",
    "pdf_folder =  Path(\".\\pdf_file\") \n",
    "pdf_files = list(pdf_folder.glob(\"*.pdf\"))\n",
    "converter = DocumentConverter(format_options={InputFormat.PDF: PdfFormatOption()})\n",
    "                              \n",
    "for pdf_file in pdf_files:  \n",
    "    result = converter.convert(pdf_file)\n",
    "    result.document.save_as_markdown(Path(\"output\") / f\"{pdf_file.stem}.md\")"
   ]
  },
  {
   "cell_type": "markdown",
   "id": "1522fd6f",
   "metadata": {},
   "source": [
    "Download and Running model in local \n",
    "1. Refer the download_docling notebook to download the model in a local path"
   ]
  },
  {
   "cell_type": "code",
   "execution_count": null,
   "id": "a219caef",
   "metadata": {},
   "outputs": [],
   "source": [
    "from pathlib import Path\n",
    "from docling.document_converter import DocumentConverter, PdfFormatOption \n",
    "from docling.datamodel.base_models import InputFormat\n",
    "from docling.datamodel.pipeline_options import PdfPipelineOptions\n",
    "\n",
    "from docling.backend.docling_parse_v2_backend import DoclingParseV2DocumentBackend\n",
    "pdf_folder =  Path(\".\\pdf_file\") \n",
    "pdf_files = list(pdf_folder.glob(\"*.pdf\"))\n",
    "\n",
    "# to change the artifacts_path\n",
    "pipeline_options = PdfPipelineOptions(\n",
    "    artifacts_path=\"C:/Users/Desktop/docling/models\",  # local path \n",
    ")\n",
    "\n",
    "# Changes in the DocumentConverter\n",
    "converter = DocumentConverter(\n",
    "        format_options={\n",
    "            InputFormat.PDF: PdfFormatOption(\n",
    "                pipeline_options=pipeline_options,\n",
    "                backend=DoclingParseV2DocumentBackend,\n",
    "            )\n",
    "        }\n",
    "    )\n",
    "\n",
    "for pdf_file in pdf_files:\n",
    "    result = converter.convert(pdf_file)\n",
    "    result.document.save_as_markdown(Path(\"output\") / f\"{pdf_file.stem}.md\")"
   ]
  },
  {
   "cell_type": "markdown",
   "id": "d442f241",
   "metadata": {},
   "source": [
    "Running Model over GPU"
   ]
  },
  {
   "cell_type": "code",
   "execution_count": null,
   "id": "1a55eab6",
   "metadata": {},
   "outputs": [],
   "source": [
    "import os\n",
    "from pathlib import Path\n",
    "from docling.document_converter import DocumentConverter, PdfFormatOption \n",
    "from docling.datamodel.base_models import InputFormat\n",
    "from docling.datamodel.pipeline_options import (\n",
    "    PdfPipelineOptions,\n",
    "    AcceleratorOptions,\n",
    "    AcceleratorDevice,\n",
    ")\n",
    "from docling.backend.docling_parse_v2_backend import DoclingParseV2DocumentBackend\n",
    "pdf_folder =  Path(\".\\pdf_file\") \n",
    "pdf_files = list(pdf_folder.glob(\"*.pdf\"))\n",
    "\n",
    "    # Explicitly set the accelerator options    \n",
    "    # accelerator_options = AcceleratorOptions(\n",
    "    #     num_threads=8, device=AcceleratorDevice.AUTO\n",
    "    # )\n",
    "\n",
    "    # easyocr doesnt support cuda:N allocation, defaults to cuda:0\n",
    "    # accelerator_options = AcceleratorOptions(num_threads=8, device=\"cuda:1\")\n",
    "\n",
    "# changing the accelerator options \n",
    "# will Explicitly mamke use of the GPU\n",
    "accelerator_options = AcceleratorOptions(\n",
    "        num_threads=8,\n",
    "        device=AcceleratorDevice.CUDA,\n",
    "    )\n",
    "\n",
    "pipeline_options = PdfPipelineOptions(\n",
    "    accelerator_options=accelerator_options,\n",
    "    artifacts_path=\"C:/Users/Desktop/docling/models\",\n",
    "    generate_picture_images=True, # to make sure we download the images. \n",
    "    images_scale=1.0, \n",
    ")\n",
    "converter = DocumentConverter(\n",
    "        format_options={\n",
    "            InputFormat.PDF: PdfFormatOption(\n",
    "                pipeline_options=pipeline_options,\n",
    "                backend=DoclingParseV2DocumentBackend,\n",
    "            )\n",
    "        }\n",
    "    )\n",
    "\n",
    "for pdf_file in pdf_files:\n",
    "    result = converter.convert(pdf_file)\n",
    "    pdf_image_output_dir = Path(\"image\") / f\"(pdf_file.stem)\"\n",
    "    os.makedirs(pdf_image_output_dir, exist_ok=True)\n",
    "    result.document.save_as_markdown(Path(\"output\") / f\"{pdf_file.stem}.md\")"
   ]
  },
  {
   "cell_type": "markdown",
   "id": "80c19163",
   "metadata": {},
   "source": [
    "Simple approach to convert a single document "
   ]
  },
  {
   "cell_type": "code",
   "execution_count": null,
   "id": "23e6bac5",
   "metadata": {},
   "outputs": [],
   "source": [
    "\n",
    "import os\n",
    "from docling.datamodel.base_models import InputFormat\n",
    "from docling.document_converter import DocumentConverter, PdfFormatOption\n",
    "from docling.datamodel.pipeline_options import (\n",
    "    PdfPipelineOptions, AcceleratorOptions, AcceleratorDevice\n",
    ")\n",
    "from docling.backend.docling_parse_v4_backend import DoclingParseV4DocumentBackend\n",
    "\n",
    "from pathlib import Path\n",
    "artifacts_path=\"C:/Users/z0047npb/Desktop/docling/models\"\n",
    "accelerator_options = AcceleratorOptions(num_threads=8, device=AcceleratorDevice.CUDA, cuda_use_flash_attention2=False,)\n",
    "\n",
    "pipeline_options = PdfPipelineOptions(\n",
    "    accelerator_options=accelerator_options,\n",
    "    artifacts_path=artifacts_path,\n",
    "    #generate_page_images=False,\n",
    "    generate_picture_images=False,\n",
    "    images_scale= 1.0\n",
    ")\n",
    "pipeline_options.do_ocr = True # Bonus Tip : 01 improving the speed of the pipeline    \n",
    "pipeline_options.do_table_structure = True"
   ]
  },
  {
   "cell_type": "code",
   "execution_count": 14,
   "id": "acb5d31a",
   "metadata": {},
   "outputs": [],
   "source": [
    "pdf_path = r\"D:\\personal_projects\\Docling_project\\pdf\\immulite_dummy.pdf\"\n",
    "markdown_folder = r\"D:\\personal_projects\\Docling_project\\output\"\n",
    "os.makedirs(markdown_folder, exist_ok=True)\n",
    "\n",
    "converter = DocumentConverter(\n",
    "    format_options={\n",
    "        InputFormat.PDF: PdfFormatOption(\n",
    "            pipeline_options=pipeline_options,\n",
    "            backend=DoclingParseV4DocumentBackend,\n",
    "        )\n",
    "    }\n",
    ")"
   ]
  },
  {
   "cell_type": "code",
   "execution_count": 15,
   "id": "2a09c045",
   "metadata": {},
   "outputs": [
    {
     "name": "stdout",
     "output_type": "stream",
     "text": [
      "immulite_dummy\n"
     ]
    }
   ],
   "source": [
    "pdf_name = os.path.splitext(os.path.basename(pdf_path))[0]\n",
    "print(pdf_name)\n",
    "md_filename = os.path.join(markdown_folder, f\"{pdf_name}\"+ \".md\")  \n",
    "result = converter.convert(pdf_path)\n",
    "result.document.save_as_markdown(md_filename)"
   ]
  }
 ],
 "metadata": {
  "kernelspec": {
   "display_name": "personal_projects",
   "language": "python",
   "name": "python3"
  },
  "language_info": {
   "codemirror_mode": {
    "name": "ipython",
    "version": 3
   },
   "file_extension": ".py",
   "mimetype": "text/x-python",
   "name": "python",
   "nbconvert_exporter": "python",
   "pygments_lexer": "ipython3",
   "version": "3.11.9"
  }
 },
 "nbformat": 4,
 "nbformat_minor": 5
}
